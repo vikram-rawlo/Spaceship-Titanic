{
 "cells": [
  {
   "cell_type": "code",
   "execution_count": 9,
   "id": "5cc79a03",
   "metadata": {},
   "outputs": [],
   "source": [
    "from sklearn.metrics import confusion_matrix, f1_score, precision_score, recall_score, accuracy_score\n",
    "from sklearn.metrics import roc_curve, auc\n",
    "\n",
    "## A function to evaluate any model performance\n",
    "\n",
    "def model_evaluation(target_train, target_train_pred, target_test, target_test_pred):\n",
    "    \n",
    "    # Create confusion matrices\n",
    "    confusion_matrix_train = confusion_matrix(target_train, target_train_pred)\n",
    "    confusion_matrix_test = confusion_matrix(target_test, target_test_pred)\n",
    "    print(\"Confusion Matrix - Training Set:\")\n",
    "    print(confusion_matrix_train)\n",
    "    print(\"\\nConfusion Matrix - Test Set:\")\n",
    "    print(confusion_matrix_test)\n",
    "\n",
    "    print(\"\\n\"+\"*****\"*10)\n",
    "    \n",
    "    # Accuracy score\n",
    "    accuracy_train = accuracy_score(target_train, target_train_pred)\n",
    "    accuracy_test = accuracy_score(target_test, target_test_pred)\n",
    "    print(\"\\nAccuracy - Training Set:\", accuracy_train)\n",
    "    print(\"Accuracy - Test Set:\", accuracy_test)\n",
    "\n",
    "    # F1 score\n",
    "    f1_train = f1_score(target_train, target_train_pred, average='weighted')\n",
    "    f1_test = f1_score(target_test, target_test_pred, average='weighted')\n",
    "    print(\"\\nF1 Score - Training Set:\", f1_train)\n",
    "    print(\"F1 Score - Test Set:\", f1_test)\n",
    "\n",
    "    # Precision score\n",
    "    precision_train = precision_score(target_train, target_train_pred, average='weighted')\n",
    "    precision_test = precision_score(target_test, target_test_pred, average='weighted')\n",
    "    print(\"\\nPrecision - Training Set:\", precision_train)\n",
    "    print(\"Precision - Test Set:\", precision_test)\n",
    "\n",
    "    # Recall score\n",
    "    recall_train = recall_score(target_train, target_train_pred, average='weighted')\n",
    "    recall_test = recall_score(target_test, target_test_pred, average='weighted')\n",
    "    print(\"\\nRecall - Training Set:\", recall_train)\n",
    "    print(\"Recall - Test Set:\", recall_test)\n",
    "    "
   ]
  },
  {
   "cell_type": "code",
   "execution_count": 8,
   "id": "4b7109c3",
   "metadata": {},
   "outputs": [],
   "source": [
    "## A function to build ROC curve\n",
    "\n",
    "def roc_auc_curve(classifier, features_test, target_test):\n",
    "    \n",
    "    # Predict probabilities for the test set\n",
    "    probs = classifier.predict_proba(features_test)[:, 1]\n",
    "    \n",
    "    # Calculate the ROC curve\n",
    "    fpr, tpr, thresholds = roc_curve(target_test, probs)\n",
    "    \n",
    "    # Calculate the AUC (Area Under the Curve)\n",
    "    roc_auc = auc(fpr, tpr)\n",
    "    \n",
    "    # Plot the ROC curve\n",
    "    plt.figure(figsize=(5, 3))\n",
    "    plt.plot(fpr, tpr, color='blue', lw=2, label='ROC curve (AUC = %0.2f)' % roc_auc)\n",
    "    plt.plot([0, 1], [0, 1], color='red', linestyle='--', lw=2, label='Random Guessing')\n",
    "    plt.xlim([0.0, 1.0])\n",
    "    plt.ylim([0.0, 1.05])\n",
    "    plt.xlabel('False Positive Rate (FPR)')\n",
    "    plt.ylabel('True Positive Rate (TPR)')\n",
    "    plt.title('Receiver Operating Characteristic (ROC) Curve')\n",
    "    plt.legend(loc='lower right')\n",
    "    plt.grid(True)\n",
    "    plt.show()"
   ]
  },
  {
   "cell_type": "code",
   "execution_count": null,
   "id": "cf604f50-a1cf-4c2f-91e7-03ed1d963249",
   "metadata": {},
   "outputs": [],
   "source": []
  }
 ],
 "metadata": {
  "kernelspec": {
   "display_name": "Python 3 (ipykernel)",
   "language": "python",
   "name": "python3"
  },
  "language_info": {
   "codemirror_mode": {
    "name": "ipython",
    "version": 3
   },
   "file_extension": ".py",
   "mimetype": "text/x-python",
   "name": "python",
   "nbconvert_exporter": "python",
   "pygments_lexer": "ipython3",
   "version": "3.11.7"
  }
 },
 "nbformat": 4,
 "nbformat_minor": 5
}
